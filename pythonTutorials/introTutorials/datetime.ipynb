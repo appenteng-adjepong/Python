{
 "cells": [
  {
   "cell_type": "code",
   "execution_count": null,
   "metadata": {},
   "outputs": [],
   "source": [
    "# working with datetime\n",
    "import datetime\n",
    "import pytz\n",
    "\n",
    "today_date = datetime.date.today()\n",
    "print(\"Weekday: {}\\nIsoweekday: {}\".format(today_date.weekday(), today_date.isoweekday()))\n",
    "print(\"Year: {}\\nDay: {}\\nMonth: {}\".format(today_date.year, today_date.day, today_date.month))\n",
    "\n",
    "# timedelta\n",
    "\n",
    "one_week = datetime.timedelta(days = 7)\n",
    "print(today_date + one_week)\n",
    "\n",
    "birthday = datetime.date(2025, 1, 10)\n",
    "days_to_birthday = birthday - today_date\n",
    "\n",
    "print(\"Days to birthday: {}\".format(days_to_birthday.days))\n",
    "\n",
    "dt = datetime.datetime(2024, 4, 27, 10, 34, 45)\n",
    "\n",
    "print(dt)\n",
    "print(f\"Year: {dt.year}\\nMonth: {dt.month}\\nDay: {dt.day}\\nHour: {dt.hour}\\nMinute: {dt.minute}\\nSecond: {dt.second}\")\n",
    "\n",
    "tdelta = datetime.timedelta(days = 7, hours = 10)\n",
    "new_dt = tdelta + dt\n",
    "print(new_dt)\n",
    "\n",
    "dt_today = datetime.datetime.today()\n",
    "dt_now = datetime.datetime.now()\n",
    "\n",
    "dt = datetime.datetime.today()\n",
    "print(f\"{dt}\")\n",
    "dt_now = datetime.datetime.now(tz = pytz.UTC)\n",
    "print(dt_now)\n",
    "\n",
    "dt_mtn = dt_now.astimezone(pytz.timezone(\"EST\"))\n",
    "print(dt_mtn)\n",
    "\n",
    "for tz in pytz.all_timezones:\n",
    "    print(tz)"
   ]
  }
 ],
 "metadata": {
  "language_info": {
   "name": "python"
  }
 },
 "nbformat": 4,
 "nbformat_minor": 2
}
