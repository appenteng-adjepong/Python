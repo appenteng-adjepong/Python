{
 "cells": [
  {
   "cell_type": "markdown",
   "metadata": {},
   "source": [
    "\n",
    "<h3><center><b>INTERMEDIATE TO ADVANCED PYTHON</b></center></h3>"
   ]
  },
  {
   "cell_type": "markdown",
   "metadata": {},
   "source": [
    "<li>High-level, open source, general-purpose, multifunctional programming language with automatic memory management </li>\n",
    "<li>Popular in the fields of data science, app and web development, and engineering</li>\n",
    "<li>Widely used in large multi-national tech companies like Goolge, IBM, Netflix and YouTube</li>\n",
    "<li>Supports object-oriented paradigms like encapsulation, abstraction, inheritance, etc, as well as functional and procedural programming</li>"
   ]
  },
  {
   "cell_type": "code",
   "execution_count": null,
   "metadata": {},
   "outputs": [],
   "source": [
    "# verify that Python is installed by running the command \"python --version\" in the terminal\n",
    "# launch an interactive python shell running the command \"python\"\n",
    "# close interactive python session with CTRL + D, quit() or exit(), kill terminal with CTRL + C\n",
    "# to avoid adding pip to path environment variables, use python -m pip install instead\n",
    "# PEP8 defines guidelines for formatting Python code. remember to always refer the official Python documentation \n"
   ]
  },
  {
   "cell_type": "markdown",
   "metadata": {},
   "source": [
    "<b><h4>PRINT STATEMENTS"
   ]
  },
  {
   "cell_type": "code",
   "execution_count": null,
   "metadata": {},
   "outputs": [
    {
     "name": "stdout",
     "output_type": "stream",
     "text": [
      "Hello, World!\n",
      "Help on built-in function print in module builtins:\n",
      "\n",
      "print(*args, sep=' ', end='\\n', file=None, flush=False)\n",
      "    Prints the values to a stream, or to sys.stdout by default.\n",
      "\n",
      "    sep\n",
      "      string inserted between values, default a space.\n",
      "    end\n",
      "      string appended after the last value, default a newline.\n",
      "    file\n",
      "      a file-like object (stream); defaults to the current sys.stdout.\n",
      "    flush\n",
      "      whether to forcibly flush the stream.\n",
      "\n"
     ]
    }
   ],
   "source": [
    "print(\"Hello, World!\")\n",
    "\n",
    "name = \"Appenteng Adjepong\"\n",
    "print(\"Hello, {}\".format(name))\n",
    "print(f\"Hello, {name}\")\n",
    "print(\"Hello, \", end = \"\")\n",
    "print(name)\n",
    "print(\"Hello,\", name)\n",
    "print(\"Hello, \" + name)\n",
    "help(print)"
   ]
  },
  {
   "cell_type": "code",
   "execution_count": null,
   "metadata": {},
   "outputs": [],
   "source": []
  },
  {
   "cell_type": "markdown",
   "metadata": {},
   "source": [
    "<b><h4>USER INPUT"
   ]
  },
  {
   "cell_type": "code",
   "execution_count": 4,
   "metadata": {},
   "outputs": [
    {
     "name": "stdout",
     "output_type": "stream",
     "text": [
      "Help on method raw_input in module ipykernel.kernelbase:\n",
      "\n",
      "raw_input(prompt='') method of ipykernel.ipkernel.IPythonKernel instance\n",
      "    Forward raw_input to frontends\n",
      "\n",
      "    Raises\n",
      "    ------\n",
      "    StdinNotImplementedError if active frontend doesn't support stdin.\n",
      "\n"
     ]
    }
   ],
   "source": [
    "help(input)"
   ]
  },
  {
   "cell_type": "markdown",
   "metadata": {},
   "source": [
    "<h4><b>DATA TYPES, VARIABLES AND EXPRESSIONS</h4>"
   ]
  },
  {
   "cell_type": "code",
   "execution_count": null,
   "metadata": {},
   "outputs": [
    {
     "name": "stdout",
     "output_type": "stream",
     "text": [
      "['h', 'e', 'l', 'l', 'o'] {'h', 'l', 'o', 'e'} ('h', 'e', 'l', 'l', 'o')\n",
      "10 20\n",
      "1 1 1\n",
      "20 10\n"
     ]
    }
   ],
   "source": [
    "# <variable name> = <value>, <a name> = <an object>\n",
    "# variable must start with a letter or underscore. remainder can consist of anything\n",
    "# variable cannot have the exact same name as an inbuilt function or keyword\n",
    "# datatypes include str, int, float, bool, complex, bytes, NoneType. there are subclasses and instances of data types.\n",
    "# ordered sequences(list, tuple) and unordered collections(set, dict) can also be assigned as values\n",
    "# mutable(list, set, dict, bytearray) and immutable(tuple, int, long, float, complex, str, frozenset, bytes)\n",
    "# \"type\" command displays the data type of assigned variables\n",
    "\n",
    "# converting between data types (typecasting)\n",
    "word = \"hello\"\n",
    "print(list(word), set(word), tuple(word))\n",
    "# define multiple variables. number of values and variables must match\n",
    "a, b , _ = 10, 20, 30 # assign unwanted values to dummy variable (underscore)\n",
    "print(a, b)\n",
    "# assign one value to multiple variables\n",
    "x = y = z = 1\n",
    "print(x, y, z)\n",
    "# swap two variables\n",
    "a, b = b, a\n",
    "print(a, b)\n"
   ]
  },
  {
   "cell_type": "markdown",
   "metadata": {},
   "source": [
    "LISTS"
   ]
  },
  {
   "cell_type": "code",
   "execution_count": 1,
   "metadata": {},
   "outputs": [
    {
     "name": "stdout",
     "output_type": "stream",
     "text": [
      "Help on list object:\n",
      "\n",
      "class list(object)\n",
      " |  list(iterable=(), /)\n",
      " |\n",
      " |  Built-in mutable sequence.\n",
      " |\n",
      " |  If no argument is given, the constructor creates a new empty list.\n",
      " |  The argument must be an iterable if specified.\n",
      " |\n",
      " |  Methods defined here:\n",
      " |\n",
      " |  __add__(self, value, /)\n",
      " |      Return self+value.\n",
      " |\n",
      " |  __contains__(self, key, /)\n",
      " |      Return bool(key in self).\n",
      " |\n",
      " |  __delitem__(self, key, /)\n",
      " |      Delete self[key].\n",
      " |\n",
      " |  __eq__(self, value, /)\n",
      " |      Return self==value.\n",
      " |\n",
      " |  __ge__(self, value, /)\n",
      " |      Return self>=value.\n",
      " |\n",
      " |  __getattribute__(self, name, /)\n",
      " |      Return getattr(self, name).\n",
      " |\n",
      " |  __getitem__(self, index, /)\n",
      " |      Return self[index].\n",
      " |\n",
      " |  __gt__(self, value, /)\n",
      " |      Return self>value.\n",
      " |\n",
      " |  __iadd__(self, value, /)\n",
      " |      Implement self+=value.\n",
      " |\n",
      " |  __imul__(self, value, /)\n",
      " |      Implement self*=value.\n",
      " |\n",
      " |  __init__(self, /, *args, **kwargs)\n",
      " |      Initialize self.  See help(type(self)) for accurate signature.\n",
      " |\n",
      " |  __iter__(self, /)\n",
      " |      Implement iter(self).\n",
      " |\n",
      " |  __le__(self, value, /)\n",
      " |      Return self<=value.\n",
      " |\n",
      " |  __len__(self, /)\n",
      " |      Return len(self).\n",
      " |\n",
      " |  __lt__(self, value, /)\n",
      " |      Return self<value.\n",
      " |\n",
      " |  __mul__(self, value, /)\n",
      " |      Return self*value.\n",
      " |\n",
      " |  __ne__(self, value, /)\n",
      " |      Return self!=value.\n",
      " |\n",
      " |  __repr__(self, /)\n",
      " |      Return repr(self).\n",
      " |\n",
      " |  __reversed__(self, /)\n",
      " |      Return a reverse iterator over the list.\n",
      " |\n",
      " |  __rmul__(self, value, /)\n",
      " |      Return value*self.\n",
      " |\n",
      " |  __setitem__(self, key, value, /)\n",
      " |      Set self[key] to value.\n",
      " |\n",
      " |  __sizeof__(self, /)\n",
      " |      Return the size of the list in memory, in bytes.\n",
      " |\n",
      " |  append(self, object, /)\n",
      " |      Append object to the end of the list.\n",
      " |\n",
      " |  clear(self, /)\n",
      " |      Remove all items from list.\n",
      " |\n",
      " |  copy(self, /)\n",
      " |      Return a shallow copy of the list.\n",
      " |\n",
      " |  count(self, value, /)\n",
      " |      Return number of occurrences of value.\n",
      " |\n",
      " |  extend(self, iterable, /)\n",
      " |      Extend list by appending elements from the iterable.\n",
      " |\n",
      " |  index(self, value, start=0, stop=9223372036854775807, /)\n",
      " |      Return first index of value.\n",
      " |\n",
      " |      Raises ValueError if the value is not present.\n",
      " |\n",
      " |  insert(self, index, object, /)\n",
      " |      Insert object before index.\n",
      " |\n",
      " |  pop(self, index=-1, /)\n",
      " |      Remove and return item at index (default last).\n",
      " |\n",
      " |      Raises IndexError if list is empty or index is out of range.\n",
      " |\n",
      " |  remove(self, value, /)\n",
      " |      Remove first occurrence of value.\n",
      " |\n",
      " |      Raises ValueError if the value is not present.\n",
      " |\n",
      " |  reverse(self, /)\n",
      " |      Reverse *IN PLACE*.\n",
      " |\n",
      " |  sort(self, /, *, key=None, reverse=False)\n",
      " |      Sort the list in ascending order and return None.\n",
      " |\n",
      " |      The sort is in-place (i.e. the list itself is modified) and stable (i.e. the\n",
      " |      order of two equal elements is maintained).\n",
      " |\n",
      " |      If a key function is given, apply it once to each list item and sort them,\n",
      " |      ascending or descending, according to their function values.\n",
      " |\n",
      " |      The reverse flag can be set to sort in descending order.\n",
      " |\n",
      " |  ----------------------------------------------------------------------\n",
      " |  Class methods defined here:\n",
      " |\n",
      " |  __class_getitem__(object, /)\n",
      " |      See PEP 585\n",
      " |\n",
      " |  ----------------------------------------------------------------------\n",
      " |  Static methods defined here:\n",
      " |\n",
      " |  __new__(*args, **kwargs)\n",
      " |      Create and return a new object.  See help(type) for accurate signature.\n",
      " |\n",
      " |  ----------------------------------------------------------------------\n",
      " |  Data and other attributes defined here:\n",
      " |\n",
      " |  __hash__ = None\n",
      "\n"
     ]
    }
   ],
   "source": [
    "# ordered collection of items\n",
    "my_list = [\"Bob\", 25, \"John\", True]\n",
    "\n",
    "help(my_list)\n",
    "\n"
   ]
  },
  {
   "cell_type": "markdown",
   "metadata": {},
   "source": [
    "<b><h4>CONDITIONALS AND CONTROL FLOW"
   ]
  },
  {
   "cell_type": "code",
   "execution_count": null,
   "metadata": {},
   "outputs": [],
   "source": []
  },
  {
   "cell_type": "markdown",
   "metadata": {},
   "source": [
    "<h4><b>STRINGS AND STRING OPERATIONS</h4>"
   ]
  },
  {
   "cell_type": "code",
   "execution_count": null,
   "metadata": {},
   "outputs": [],
   "source": [
    "# positional and named parameters\n",
    "\n",
    "\n",
    "# formatted strings\n",
    "\n",
    "\n",
    "\n",
    "\n",
    "# escape characters\n",
    "\n"
   ]
  },
  {
   "cell_type": "markdown",
   "metadata": {},
   "source": [
    "INDEXING, SLICING AND STRIDING"
   ]
  },
  {
   "cell_type": "code",
   "execution_count": 5,
   "metadata": {},
   "outputs": [
    {
     "name": "stdout",
     "output_type": "stream",
     "text": [
      "M\n"
     ]
    }
   ],
   "source": [
    "# Python is a zero-indexed programming language(the first element is indexed as 0)\n",
    "name = \"Michalel Jackson\"\n",
    "print(name[0]) # indexes to the first element in the string 'name'\n",
    "# Remember to index within the bounds of the string!"
   ]
  },
  {
   "cell_type": "code",
   "execution_count": 6,
   "metadata": {},
   "outputs": [
    {
     "name": "stdout",
     "output_type": "stream",
     "text": [
      "n\n",
      "M\n"
     ]
    }
   ],
   "source": [
    "# Python supports negative indexing\n",
    "print(name[-1]) # indexes to the last element in the string 'name'\n",
    "print(name[-len(name)]) # indexes to the first element in the string 'name'"
   ]
  },
  {
   "cell_type": "code",
   "execution_count": 7,
   "metadata": {},
   "outputs": [
    {
     "name": "stdout",
     "output_type": "stream",
     "text": [
      "Mich\n",
      "Michalel Jackson\n",
      "noskcaJ lelahciM\n"
     ]
    }
   ],
   "source": [
    "# Slicing means indexing to a continuous segment of a string\n",
    "print(name[0:4]) # (or name[:4]) prints first four elements of 'name', i.e. excluding element at index 4\n",
    "print(name[:]) # essentially copies the string\n",
    "print(name[::-1]) # reverses the elements of the sring"
   ]
  },
  {
   "cell_type": "code",
   "execution_count": 22,
   "metadata": {},
   "outputs": [
    {
     "name": "stdout",
     "output_type": "stream",
     "text": [
      "McalJcsn\n",
      "ihe ako\n"
     ]
    }
   ],
   "source": [
    "# Striding means indexing within intervals \n",
    "print(name[0::2]) # (or name[::2])indexes with an interval of 2 from first element to last\n",
    "print(name[1:-1:2]) # stride excluding first and last elements of string"
   ]
  },
  {
   "cell_type": "markdown",
   "metadata": {},
   "source": [
    "STRING CONCATENATION AND REGULAR EXPRESSIONS"
   ]
  },
  {
   "cell_type": "code",
   "execution_count": null,
   "metadata": {},
   "outputs": [],
   "source": []
  },
  {
   "cell_type": "code",
   "execution_count": null,
   "metadata": {},
   "outputs": [],
   "source": [
    "# Most Useful String Methods: "
   ]
  },
  {
   "cell_type": "code",
   "execution_count": null,
   "metadata": {},
   "outputs": [],
   "source": [
    "# Regular Expressions(RegEx)\n",
    "import re \n",
    "# Most Useful Methods: search, split, findall, sub, group"
   ]
  },
  {
   "cell_type": "markdown",
   "metadata": {},
   "source": [
    "<h4><b>FUNCTIONS, LIBRARIES  AND MODULES</h4>"
   ]
  },
  {
   "cell_type": "markdown",
   "metadata": {},
   "source": [
    "<li> Keywords and in-built functions in Python need to be delved deeper into.</li>\n",
    "<li> You can define custom functions in Python. Multiple functions in one Python file forms a module. </li>\n",
    "<li> You can also import pre-written modules. These are usually called libraries.</li>\n"
   ]
  },
  {
   "cell_type": "code",
   "execution_count": null,
   "metadata": {},
   "outputs": [
    {
     "name": "stdout",
     "output_type": "stream",
     "text": [
      "Help on built-in function print in module builtins:\n",
      "\n",
      "print(*args, sep=' ', end='\\n', file=None, flush=False)\n",
      "    Prints the values to a stream, or to sys.stdout by default.\n",
      "\n",
      "    sep\n",
      "      string inserted between values, default a space.\n",
      "    end\n",
      "      string appended after the last value, default a newline.\n",
      "    file\n",
      "      a file-like object (stream); defaults to the current sys.stdout.\n",
      "    flush\n",
      "      whether to forcibly flush the stream.\n",
      "\n"
     ]
    }
   ],
   "source": [
    "# to get help on any function, use the \"help\" in-built function\n",
    "help(print)"
   ]
  },
  {
   "cell_type": "code",
   "execution_count": null,
   "metadata": {},
   "outputs": [],
   "source": [
    "# define custom functions by using the def keyword"
   ]
  },
  {
   "cell_type": "code",
   "execution_count": null,
   "metadata": {},
   "outputs": [],
   "source": [
    "# to get help on custom functions, you need to first provide a description of the function in a Docstring\n",
    "\n"
   ]
  },
  {
   "cell_type": "code",
   "execution_count": null,
   "metadata": {},
   "outputs": [],
   "source": []
  },
  {
   "cell_type": "code",
   "execution_count": null,
   "metadata": {},
   "outputs": [],
   "source": []
  },
  {
   "cell_type": "code",
   "execution_count": null,
   "metadata": {},
   "outputs": [],
   "source": []
  },
  {
   "cell_type": "code",
   "execution_count": null,
   "metadata": {},
   "outputs": [],
   "source": []
  },
  {
   "cell_type": "markdown",
   "metadata": {},
   "source": [
    "<h4><b>EXCEPTION HANDLING</h4>"
   ]
  },
  {
   "cell_type": "code",
   "execution_count": 7,
   "metadata": {},
   "outputs": [
    {
     "name": "stdout",
     "output_type": "stream",
     "text": [
      "Success, a = 0.2\n",
      "Process Complete.\n"
     ]
    }
   ],
   "source": [
    "# Example: \n",
    "a = 1\n",
    " \n",
    "try:\n",
    "    b = int(input(\"Please enter a number: \"))\n",
    "    a = a/b \n",
    "except ZeroDivisionError: # raises error if number is divided by zero\n",
    "    print(\"Cannot divide 1 by 0\")\n",
    "except ValueError: # raises error if unexpected datatype is enterred\n",
    "    print(\"Invalid number or expression\")\n",
    "except: # handles unknown exceptions\n",
    "    print(\"Oops! Something went wrong...\")\n",
    "else: # is executed if no exceptions are encountered\n",
    "    print(\"Success, a =\", a)   \n",
    "finally:# is executed if all code blocks are successful\n",
    "    print(\"Process Complete.\")\n",
    "\n"
   ]
  },
  {
   "cell_type": "code",
   "execution_count": null,
   "metadata": {},
   "outputs": [],
   "source": [
    "# Exercise 1:\n",
    "\"\"\"Create a Python function called 'safe_divide' with two numbers: 'numerator' and \n",
    "'denominator', and use the user input method to take the values. If divided by zero,\n",
    "instead of showing an error, it should return 'None' and print 'Error: Cannot divide\n",
    "by zero.\"\"\"\n",
    "# Hint: The try and except blocks should be within the function\n",
    "\n",
    "# Solution:"
   ]
  },
  {
   "cell_type": "code",
   "execution_count": null,
   "metadata": {},
   "outputs": [],
   "source": [
    "# Exercise 2:\n",
    "\"\"\"Create a Python function called 'square_root' that takes in one argument 'number1', which is \n",
    "either a floating point value or an integer. If a negative integer or float is entered, an exception\n",
    "should be raised and 'Invalid input! Please enter a positive integer or floating point number. \"\"\"\n",
    "\n",
    "# Solution:\n"
   ]
  },
  {
   "cell_type": "code",
   "execution_count": 8,
   "metadata": {},
   "outputs": [
    {
     "data": {
      "text/plain": [
       "\"Create a Python function called 'perform_computation' that takes the input argument 'num' and \\ndivides it by the difference between 'num' and 5. Store the result in a variable called 'result'.\\nThe function should be capable of handling any potential errors that occur during the computation\\nusing the generic exception class 'Exception' as 'e', and display 'An error occurred during the\\ncalculation.\""
      ]
     },
     "execution_count": 8,
     "metadata": {},
     "output_type": "execute_result"
    }
   ],
   "source": [
    "# Exercise 3: \n",
    "\"\"\"Create a Python function called 'perform_computation' that takes the input argument 'num' and \n",
    "divides it by the difference between 'num' and 5. Store the result in a variable called 'result'.\n",
    "The function should be capable of handling any potential errors that occur during the computation\n",
    "using the generic exception class 'Exception' as 'e', and display 'An error occurred during the\n",
    "calculation.\"\"\"\n",
    "\n",
    "# Solution:\n",
    "\n"
   ]
  },
  {
   "cell_type": "markdown",
   "metadata": {},
   "source": [
    "**OBJECTS AND CLASSES**"
   ]
  },
  {
   "cell_type": "code",
   "execution_count": null,
   "metadata": {},
   "outputs": [],
   "source": [
    "class Mammal:\n",
    "    def walk(self):\n",
    "        print(\"walk\")\n",
    "\n",
    "\n",
    "class Dog(Mammal):\n",
    "    def bark(self):\n",
    "        print(\"bark\")\n",
    "\n",
    "\n",
    "class Cat(Mammal):\n",
    "    def meow(self):\n",
    "        print(\"meow\")\n",
    "\n",
    "dog1 = Dog()\n",
    "dog1.walk()\n",
    "dog1.bark()\n",
    "\n",
    "cat1 = Cat()\n",
    "cat1.meow()\n",
    "cat1.walk()"
   ]
  },
  {
   "cell_type": "code",
   "execution_count": null,
   "metadata": {},
   "outputs": [],
   "source": [
    "numbers = [1, 2, 3]\n",
    "\n",
    "class Point: # remember to use Pascal naming convention\n",
    "    def move(self):\n",
    "        print(\"move\")\n",
    "\n",
    "    def draw(self):\n",
    "        print(\"draw\")\n",
    "\n",
    "point1 = Point()\n",
    "\n",
    "point1.x = 10\n",
    "point1.y = 20\n",
    "print(\"{}, {}\".format(point1.x, point1.y))\n",
    "\n",
    "point2 = Point()\n",
    "point2.x = 15\n",
    "point2.y = 25\n",
    "print(\"{}, {}\".format(point2.x, point2.y))"
   ]
  },
  {
   "cell_type": "code",
   "execution_count": null,
   "metadata": {},
   "outputs": [],
   "source": [
    "class Point:\n",
    "    def __init__(self, x, y):\n",
    "        self.x = x\n",
    "        self.y = y\n",
    "\n",
    "    def move(self):\n",
    "        print(\"move\")\n",
    "\n",
    "    def draw(self):\n",
    "        print(\"draw\")\n",
    "\n",
    "point = Point(10, 20)\n",
    "point.x = 11\n",
    "\n",
    "\n",
    "class Person:\n",
    "    def __init__(self, name):\n",
    "        self.name = name\n",
    "    \n",
    "    def talk(self):\n",
    "        message = \"Hi, I am {}\".format(self.name)\n",
    "        print(message)\n",
    "\n",
    "john  = Person(\"John Smith\")\n",
    "john.talk()\n"
   ]
  },
  {
   "cell_type": "code",
   "execution_count": null,
   "metadata": {},
   "outputs": [
    {
     "name": "stdout",
     "output_type": "stream",
     "text": [
      "\n",
      "Mercedes-Benz, S-Class is currently at 70 km/h\n",
      "\n",
      "BMW, M4 Competition is currently at 50 km/h\n",
      "\n",
      "Mercedes-Benz, S-Class is currently at 90 km/h\n",
      "\n",
      "BMW, M4 Competition is currently at 80 km/h\n",
      "\n",
      "Mercedes-Benz, S-Class is currently at 110 km/h\n",
      "\n",
      "BMW, M4 Competition is currently at 110 km/h\n",
      "\n",
      "Mercedes-Benz, S-Class is currently at 130 km/h\n",
      "\n",
      "BMW, M4 Competition is currently at 140 km/h\n",
      "\n",
      "Mercedes-Benz, S-Class is currently at 150 km/h\n",
      "\n",
      "BMW, M4 Competition is currently at 150 km/h\n"
     ]
    }
   ],
   "source": [
    "# Example 1: (Simple Car)\n",
    "import time\n",
    "\n",
    "class Car:\n",
    "    # Class attribute (shared by all instances of class)\n",
    "    max_speed = 150 # speed limit in km/h\n",
    "\n",
    "    # Constructor method (initialize instance attributes)\n",
    "    def __init__(self, make, model, color, speed =  0):\n",
    "        self.make = make\n",
    "        self.model = model\n",
    "        self.color = color\n",
    "        self.speed = speed # initial speed is set to 0\n",
    "\n",
    "    # Method for accelerating the car\n",
    "    def accelerate(self, acceleration):\n",
    "        if self.speed + acceleration <= Car.max_speed:\n",
    "            self.speed += acceleration\n",
    "        else: \n",
    "            self.speed = Car.max_speed\n",
    "    # Method to get the current speed of the car\n",
    "    def get_speed(self):\n",
    "        return self.speed\n",
    "    \n",
    "nitro1 = 50\n",
    "nitro2 = 20\n",
    "    \n",
    "while True:\n",
    "    # Create objects(instances) of the Car class\n",
    "    car1 = Car(\"Mercedes-Benz\", \"S-Class\", \"Black\")\n",
    "    car2 = Car(\"BMW\", \"M4 Competition\", \"White\")\n",
    "    # Accelerate car1 and car2 with the accelerate method\n",
    "    nitro1 += 20\n",
    "    nitro2 += 30\n",
    "    car1.accelerate(nitro1)\n",
    "    car2.accelerate(nitro2)\n",
    "    # Retrieve and print the current speeds of the cars with the get_speed method\n",
    "    print(f\"\\n{car1.make}, {car1.model} is currently at {car1.get_speed()} km/h\")\n",
    "    print(f\"\\n{car2.make}, {car2.model} is currently at {car2.get_speed()} km/h\")\n",
    "    time.sleep(3) # time delay within loop\n",
    "    if car1.get_speed() and car2.get_speed() == Car.max_speed:\n",
    "        break\n"
   ]
  },
  {
   "cell_type": "code",
   "execution_count": null,
   "metadata": {},
   "outputs": [],
   "source": [
    "# Example 2:"
   ]
  }
 ],
 "metadata": {
  "kernelspec": {
   "display_name": "Python 3",
   "language": "python",
   "name": "python3"
  },
  "language_info": {
   "codemirror_mode": {
    "name": "ipython",
    "version": 3
   },
   "file_extension": ".py",
   "mimetype": "text/x-python",
   "name": "python",
   "nbconvert_exporter": "python",
   "pygments_lexer": "ipython3",
   "version": "3.13.3"
  }
 },
 "nbformat": 4,
 "nbformat_minor": 2
}
