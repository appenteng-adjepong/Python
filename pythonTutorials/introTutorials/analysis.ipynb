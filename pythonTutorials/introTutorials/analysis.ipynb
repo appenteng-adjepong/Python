{
 "cells": [
  {
   "cell_type": "code",
   "execution_count": 5,
   "metadata": {},
   "outputs": [
    {
     "name": "stdout",
     "output_type": "stream",
     "text": [
      "from stephen.marquard@uct.ac.za Sat Jan 5 09:14:16 2008\n",
      "Return-Path: <postmaster@collab.sakaiproject.org>\n",
      "source@collab.sakaiproject.orgFrom:\n",
      "Stephen.marquard@uct.ac.zaSubject: [sakai] svn commit: r39772 -\n",
      "content/branches/Details:\n",
      "http://source.sakaiproject.org/viewsvn/?view-rev&rev=39772\n",
      "6 instances without Date\n"
     ]
    }
   ],
   "source": [
    "handle = open(r\"C:\\Users\\appenteng.adjepong\\Desktop\\from stephen.marquard@uct.ac.za Sat.txt\")\n",
    "count = 0\n",
    "for line in handle:\n",
    "    line = line.strip()\n",
    "    if \"Date\"  in line:\n",
    "        continue # skip line \n",
    "    count += 1\n",
    "    print(line)\n",
    "\n",
    "print(str(count) + \" instances without Date\")"
   ]
  },
  {
   "cell_type": "code",
   "execution_count": 2,
   "metadata": {},
   "outputs": [
    {
     "name": "stdout",
     "output_type": "stream",
     "text": [
      "from stephen.marquard@uct.ac.za Sat Jan 5 09:14:16 2008\n",
      "Return-Path: <postmaster@collab.sakaiproject.org>\n",
      "Date: Sat, 5 Jan 2008 09:12:18 -0500To:\n",
      "source@collab.sakaiproject.orgFrom:\n",
      "Stephen.marquard@uct.ac.zaSubject: [sakai] svn commit: r39772 -\n",
      "content/branches/Details:\n",
      "http://source.sakaiproject.org/viewsvn/?view-rev&rev=39772\n"
     ]
    }
   ],
   "source": [
    "with open(r\"C:\\Users\\appenteng.adjepong\\Desktop\\from stephen.marquard@uct.ac.za Sat.txt\") as file:\n",
    "    content = file.read()\n",
    "    print(content)"
   ]
  },
  {
   "cell_type": "code",
   "execution_count": 45,
   "metadata": {},
   "outputs": [
    {
     "name": "stdout",
     "output_type": "stream",
     "text": [
      "The original list is: [1, 3, 4, 4, 5, 7]\n",
      "The new list is:[1, 3, 4, 4, 5, 7]\n"
     ]
    }
   ],
   "source": [
    "\n",
    "def remove_item(first_list: list, item: int):\n",
    "    num = first_list.count(item)\n",
    "    for i in range(num):\n",
    "        first_list.remove(item)\n",
    "    return first_list\n",
    "\n",
    "if __name__ == \"__main__\":\n",
    "    first_list = [1, 4, 3, 5, 6, 6, 7, 4]\n",
    "    first_list.sort()\n",
    "    item = 6\n",
    "    new_list = remove_item(first_list, item)\n",
    "    print(\"The original list is: {}\\nThe new list is:{}\".format(first_list, new_list))"
   ]
  },
  {
   "cell_type": "code",
   "execution_count": 6,
   "metadata": {},
   "outputs": [
    {
     "name": "stdout",
     "output_type": "stream",
     "text": [
      "from stephen.marquard@uct.ac.za Sat Jan 5 09:14:16 2008\n",
      "\n",
      "Return-Path: <postmaster@collab.sakaiproject.org>\n",
      "\n",
      "source@collab.sakaiproject.orgFrom:\n",
      "\n",
      "Stephen.marquard@uct.ac.zaSubject: [sakai] svn commit: r39772 -\n",
      "\n",
      "content/branches/Details:\n",
      "\n",
      "http://source.sakaiproject.org/viewsvn/?view-rev&rev=39772\n",
      "6\n"
     ]
    }
   ],
   "source": [
    "filename = input(\"Enter filename or directory: \")\n",
    "handle = open(filename)\n",
    "\n",
    "count = 0\n",
    "for line in handle:\n",
    "    if not line.startswith(\"Date: \"):\n",
    "        print(line)\n",
    "        count += 1\n",
    "\n",
    "print(count)\n",
    "\n"
   ]
  },
  {
   "cell_type": "code",
   "execution_count": 2,
   "metadata": {},
   "outputs": [
    {
     "name": "stdout",
     "output_type": "stream",
     "text": [
      "7766555444321\n"
     ]
    }
   ],
   "source": [
    "from collections import Counter\n",
    "\n",
    "def max_arrangement(number_string: str, max_repeats: int) -> str:\n",
    "    # Count the occurrences of each digit\n",
    "    counts = Counter(number_string)\n",
    "    \n",
    "    # Limit the counts to the max_repeats\n",
    "    limited_counts = {char: min(count, max_repeats) for char, count in counts.items()}\n",
    "    \n",
    "    # Create a sorted list of characters based on their value and frequency\n",
    "    sorted_chars = sorted(limited_counts.keys(), reverse=True)\n",
    "    \n",
    "    # Build the final string based on the limited counts\n",
    "    result = []\n",
    "    for char in sorted_chars:\n",
    "        result.append(char * limited_counts[char])\n",
    "    \n",
    "    # Join the list into a final string and return it\n",
    "    return ''.join(result)\n",
    "if __name__ == \"__main__\":\n",
    "    s = input()\n",
    "    n = int(input())\n",
    "    solution = max_arrangement(s, n)\n",
    "    print(solution)"
   ]
  }
 ],
 "metadata": {
  "kernelspec": {
   "display_name": "Python 3",
   "language": "python",
   "name": "python3"
  },
  "language_info": {
   "codemirror_mode": {
    "name": "ipython",
    "version": 3
   },
   "file_extension": ".py",
   "mimetype": "text/x-python",
   "name": "python",
   "nbconvert_exporter": "python",
   "pygments_lexer": "ipython3",
   "version": "undefined.undefined.undefined"
  }
 },
 "nbformat": 4,
 "nbformat_minor": 2
}
