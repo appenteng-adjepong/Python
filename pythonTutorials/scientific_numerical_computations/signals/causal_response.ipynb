{
  "nbformat": 4,
  "nbformat_minor": 0,
  "metadata": {
    "colab": {
      "provenance": []
    },
    "kernelspec": {
      "name": "python3",
      "display_name": "Python 3"
    },
    "language_info": {
      "name": "python"
    }
  },
  "cells": [
    {
      "cell_type": "code",
      "execution_count": null,
      "metadata": {
        "id": "tEehMrWPnycM"
      },
      "outputs": [],
      "source": [
        "from matplotlib import pyplot as plt\n",
        "import numpy as np\n",
        "from scipy.signal import lfilter\n",
        "from helpers import numerator, denominator\n",
        "\n",
        "def evaluate_transfer_function(numerator, denominator, Omega):\n",
        "    \"\"\"\n",
        "      Inputs: numerator - list 'a' of floats denoting the numerator coefficients of the\n",
        "                          DT LTI transfer function H(z).\n",
        "              denominator - list 'b' of floats denoting the numerator coefficients of the\n",
        "                            DT LTI transfer function H(z). Example: H(z)=(a[0]z + a[1])/(b[0]z + b[1])\n",
        "              Omega - float, disrete frequency at which the complex transfer function should be evaluated\n",
        "\n",
        "      Output: H_Omega - Complex number H(z=e^jOmega). Transfer function H(z) evaluated at z=e^{jOmega}\n",
        "    \"\"\"\n",
        "    e_jOmega =  np.exp(complex(0,1)*Omega) # e^{jOmega}\n",
        "\n",
        "    # TODO: Find the amplification (modulo of the transfer function at\n",
        "    # the given frequency), as well as the phase of the transfer function\n",
        "    num_deg = len(numerator)\n",
        "    den_deg = len(denominator)\n",
        "    num_h = sum([numerator[i]*(e_jOmega**(num_deg-i-1)) for i in range(num_deg)])\n",
        "    den_h = sum([denominator[i]*(e_jOmega**(den_deg-i-1)) for i in range(den_deg)])\n",
        "    H_Omega = num_h/den_h\n",
        "\n",
        "    return H_Omega\n",
        "\n",
        "# Input signal: cosine function cos(Omega*n)\n",
        "n = np.arange(50)\n",
        "Omega = 0.5\n",
        "input_signal = np.cos(Omega*n)\n",
        "\n",
        "# TODO: Find the output of the system given input_signal:\n",
        "output_signal = lfilter(numerator, denominator, input_signal)\n",
        "\n",
        "# Theoretical output for input of infinite duration:\n",
        "H_Omega = evaluate_transfer_function(numerator, denominator, Omega)\n",
        "amplify_factor = np.abs(H_Omega)\n",
        "phase_factor = np.angle(H_Omega)\n",
        "\n",
        "ideal_output = amplify_factor*np.cos(Omega*n + phase_factor)\n",
        "\n",
        "# Plot the difference between the ideal output and the actual one: The\n",
        "# difference should tend to 0 as time goes on, as the system enters\n",
        "# steady-state\n",
        "plt.plot(n, ideal_output-output_signal)\n",
        "plt.xlabel('n')\n",
        "plt.ylabel(r'$|H(j\\Omega)|cos(\\Omega n + \\arg H(j\\Omega)) - y[n]$')\n",
        "plt.title('Difference between the theoretical ideal output\\n and the actual response of the system')\n",
        "plt.savefig('./cx_out/diff.png')\n",
        "\n",
        "# Plot the input signal and the output: Notice that the output becomes\n",
        "# the scaled and shifted version of the input.\n",
        "plt.plot(n, input_signal)\n",
        "plt.plot(n, output_signal)\n",
        "plt.xlabel('n')\n",
        "plt.ylabel('Signals')\n",
        "plt.title('Input to the system and corresponding output')\n",
        "plt.legend(['difference','input', 'output'])\n",
        "plt.savefig('./cx_out/outputs.png')"
      ]
    }
  ]
}