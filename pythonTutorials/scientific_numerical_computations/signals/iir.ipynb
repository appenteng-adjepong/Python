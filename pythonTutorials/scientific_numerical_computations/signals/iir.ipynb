{
  "nbformat": 4,
  "nbformat_minor": 0,
  "metadata": {
    "colab": {
      "provenance": []
    },
    "kernelspec": {
      "name": "python3",
      "display_name": "Python 3"
    },
    "language_info": {
      "name": "python"
    }
  },
  "cells": [
    {
      "cell_type": "code",
      "execution_count": null,
      "metadata": {
        "id": "bl2cOtt1nyQQ"
      },
      "outputs": [],
      "source": [
        "import numpy as np\n",
        "from matplotlib import pyplot as plt\n",
        "from scipy import signal\n",
        "\n",
        "#input signal\n",
        "u1 = np.cos(2*np.pi*0.001*np.arange(1000))*0.5\n",
        "u2 = np.cos(2*np.pi*0.01*np.arange(1000))\n",
        "u = u1+u2\n",
        "\n",
        "def causalLowPass(x,alpha):\n",
        "    \"\"\"\n",
        "    Inputs:\n",
        "        u: 1-d numpy array containing the input signal to be filtered\n",
        "        alpha: number between 0 and 1\n",
        "    Outputs:\n",
        "        numpy array - 1-d numpy array containing the filtered signal\n",
        "    \"\"\"\n",
        "    N = len(x)\n",
        "    filteredData = np.zeros(N)\n",
        "    for n in range(N):\n",
        "      if n - 1 >= 0:\n",
        "        filteredData[n] = alpha*filteredData[n - 1] + x[n] - alpha*x[n]\n",
        "      else:\n",
        "        filteredData[n] = x[n] - alpha*x[n]\n",
        "    #do not use any library function except numpy for this task\n",
        "    #TODO\n",
        "    return filteredData\n",
        "\n",
        "def nonCausalLowPass(x,alpha):\n",
        "    \"\"\"\n",
        "    Inputs:\n",
        "        u: 1-d numpy array containing the input signal to be filtered\n",
        "        alpha: number between 0 and 1\n",
        "    Outputs:\n",
        "        numpy array - 1-d numpy array containing the filtered signal\n",
        "    \"\"\"\n",
        "    num = [1 - alpha, 0]\n",
        "    den = [1, -alpha]\n",
        "    filteredData = signal.filtfilt(num, den, x)\n",
        "    #you may use signal.filtfilt for this task\n",
        "    #TODO\n",
        "    return filteredData\n",
        "\n",
        "yourexplanation = '''Non-causal filtering attenuates the magnitude of the original\n",
        "signal to a much greater extent as compared to causal filtering. There is also no\n",
        "phase shift in non-causal filtering, which is not observed in causal filtering.'''\n",
        "\n",
        "#Plot response\n",
        "y_causal = causalLowPass(u, 0.95)\n",
        "y_noncausal = nonCausalLowPass(u, 0.95)\n",
        "\n",
        "plt.figure()\n",
        "plt.plot(u,'--',color='grey')\n",
        "plt.plot(y_causal)\n",
        "plt.plot(y_noncausal)\n",
        "\n",
        "plt.legend(['original','causal','non-causal'])\n",
        "plt.title('Causal vs non-causal filters')\n",
        "plt.xlabel('$n$')\n",
        "plt.ylabel('$y[n]$')\n",
        "plt.savefig('./cx_out/plot.png')\n"
      ]
    }
  ]
}