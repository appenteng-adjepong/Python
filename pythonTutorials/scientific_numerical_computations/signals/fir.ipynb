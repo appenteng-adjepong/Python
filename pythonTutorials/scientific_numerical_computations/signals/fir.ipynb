{
  "nbformat": 4,
  "nbformat_minor": 0,
  "metadata": {
    "colab": {
      "provenance": []
    },
    "kernelspec": {
      "name": "python3",
      "display_name": "Python 3"
    },
    "language_info": {
      "name": "python"
    }
  },
  "cells": [
    {
      "cell_type": "code",
      "execution_count": null,
      "metadata": {
        "id": "9Vd-hvqlnx9B"
      },
      "outputs": [],
      "source": [
        "import numpy as np\n",
        "\n",
        "def movingAverageFilter(u, weights):\n",
        "    \"\"\"\n",
        "    Inputs:\n",
        "        u: 1-d numpy array containing the input signal to be filtered\n",
        "        weights: 1-d numpy array containing the weights of the moving\n",
        "                 average filter. w[0] is applied to the signal at time i,\n",
        "                 i.e. u[i]. w[1] applies to the element u[i-1], etc.\n",
        "    Outputs:\n",
        "        numpy array - 1-d numpy array containing the filtered signal\n",
        "    \"\"\"\n",
        "    M = len(weights)\n",
        "    N = len(u)\n",
        "    y = np.zeros(N)\n",
        "\n",
        "    for n in range(N):\n",
        "      for k in range(M):\n",
        "        if n - k >= 0:\n",
        "          y[n] += weights[k]*u[n-k]\n",
        "\n",
        "    filteredData = y\n",
        "    #TODO:\n",
        "    return filteredData\n",
        "\n",
        "\n",
        "def medianFilter(u,M):\n",
        "    \"\"\"\n",
        "    Inputs:\n",
        "        u: 1-d numpy array containing the input signal to be filtered\n",
        "        M: integer representing the size of the median filter window\n",
        "    Outputs:\n",
        "        numpy array - 1-d numpy array containing the filtered signal\n",
        "    \"\"\"\n",
        "    L = M - 1\n",
        "    N = len(u)\n",
        "    new_u = np.pad(u, L)\n",
        "    filteredData = np.zeros(N)\n",
        "\n",
        "    for n in range(L, N+L):\n",
        "      filteredData[n-L] = np.median(new_u[n-L:n+1])\n",
        "    #do not use any library function except numpy for this task\n",
        "    #TODO\n",
        "    return filteredData\n",
        "\n",
        "\n",
        "#For students to debug\n",
        "inputSignal = np.array([1,2,3,1,2,1,4,1,3,5,124,1,3,4])\n",
        "print(\"inputSignal = \",inputSignal)\n",
        "\n",
        "weights = np.array([1,2,3])/(1+2+3)\n",
        "MASignal = movingAverageFilter(inputSignal,weights)\n",
        "print(\"MASignal = \",MASignal)\n",
        "\n",
        "M = 3\n",
        "MEDSignal = medianFilter(inputSignal,M)\n",
        "print(\"MEDSignal = \", MEDSignal)"
      ]
    }
  ]
}