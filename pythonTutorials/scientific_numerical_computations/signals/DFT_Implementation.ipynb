{
  "nbformat": 4,
  "nbformat_minor": 0,
  "metadata": {
    "colab": {
      "provenance": []
    },
    "kernelspec": {
      "name": "python3",
      "display_name": "Python 3"
    },
    "language_info": {
      "name": "python"
    }
  },
  "cells": [
    {
      "cell_type": "code",
      "source": [
        "import numpy as np\n",
        "from matplotlib import pyplot as plt\n",
        "from modules.helperFunctions import plot_signal_dft\n",
        "\n",
        "def compute_w(N):\n",
        "    \"\"\"\n",
        "    Inputs:\n",
        "        N: integer - length of input signal x\n",
        "    Outputs:\n",
        "        W: numpy array - NxN matrix with elements W_N^kn at position (k,n)\n",
        "    \"\"\"\n",
        "    W = np.zeros([N,N], dtype = complex)\n",
        "    for k in range(N):\n",
        "      for n in range(N):\n",
        "        W[k, n] = np.exp(-1j*2*np.pi*n*k/N)\n",
        "    return W\n",
        "    # TODO\n",
        "\n",
        "def compute_dft(W, x):\n",
        "\n",
        "    X = np.matmul(W, x)\n",
        "\n",
        "    return X\n",
        "\n",
        "def compute_idft(W, X):  # TODO\n",
        "\n",
        "    x = (np.matmul(np.conj(W), X))/N\n",
        "\n",
        "    return x\n",
        "# Here you can test your code:\n",
        "N = 16\n",
        "\n",
        "n = np.arange(N)\n",
        "W = compute_w(N)\n",
        "\n",
        "# Signal 1\n",
        "Omega = 2*np.pi*(1.0/8)\n",
        "x = np.exp(1j*(Omega*n))\n",
        "X =  compute_dft(W, x)# TODO: Use your function to compute the DFT of x\n",
        "ax1 = plot_signal_dft(x, X)\n",
        "plt.title(f\"$\\Omega$ = {Omega:.2f}\")\n",
        "plt.savefig(\"./cx_out/plot1.png\")\n",
        "\n",
        "# Signal 2\n",
        "Omega2 = 2*np.pi*(3.0/8)\n",
        "x2 = np.exp(1j*(Omega*n)) + np.exp(1j*(Omega2*n))\n",
        "X2 =  compute_dft(W, x2)# TODO: Use your function to compute the DFT of x\n",
        "ax2 = plot_signal_dft(x2, X2)\n",
        "plt.title(f\"$\\Omega_1$ = {Omega:.2f}, $\\Omega_2$ = {Omega2:.2f}\")\n",
        "plt.savefig(\"./cx_out/plot2.png\")\n",
        "\n",
        "# Inverse DFT of X:\n",
        "x_inv = compute_idft(W, X)  # TODO: Use your function to compute the IDFT of X\n",
        "fig = plt.figure()\n",
        "plt.stem(n,x_inv.real,markerfmt='o')\n",
        "plt.stem(n,x.real, markerfmt='rx',linefmt='r')\n",
        "plt.xlabel('n')\n",
        "plt.ylabel('Signal')\n",
        "plt.title('Time signals')\n",
        "plt.legend(['original signal', 'inverse DFT'])\n",
        "plt.savefig(\"./cx_out/plot3.png\")\n",
        "\n",
        "# Compare with a built-in function\n",
        "X_np = np.fft.fft(x) # TODO: use the np.fft.fft to compute the DFT of x\n",
        "\n",
        "if np.allclose(X,X_np):\n",
        "  print(\"Your DFT implementation is close to the built-in one.\")\n",
        "else:\n",
        "  print(\"Your DFT implementation is NOT close enough to the built-in one.\")"
      ],
      "metadata": {
        "colab": {
          "base_uri": "https://localhost:8080/",
          "height": 211
        },
        "id": "-MSCkCZYixRZ",
        "outputId": "5af27207-8b96-4d29-d70e-757c0c3968c0"
      },
      "execution_count": null,
      "outputs": [
        {
          "output_type": "error",
          "ename": "NameError",
          "evalue": "name 'x' is not defined",
          "traceback": [
            "\u001b[0;31m---------------------------------------------------------------------------\u001b[0m",
            "\u001b[0;31mNameError\u001b[0m                                 Traceback (most recent call last)",
            "\u001b[0;32m<ipython-input-4-9aabe019ae40>\u001b[0m in \u001b[0;36m<cell line: 6>\u001b[0;34m()\u001b[0m\n\u001b[1;32m      4\u001b[0m \u001b[0;34m\u001b[0m\u001b[0m\n\u001b[1;32m      5\u001b[0m \u001b[0;31m# Excite the system with the input signal\u001b[0m\u001b[0;34m\u001b[0m\u001b[0;34m\u001b[0m\u001b[0m\n\u001b[0;32m----> 6\u001b[0;31m \u001b[0my\u001b[0m \u001b[0;34m=\u001b[0m \u001b[0msignal\u001b[0m\u001b[0;34m.\u001b[0m\u001b[0mlfilter\u001b[0m\u001b[0;34m(\u001b[0m\u001b[0mb\u001b[0m\u001b[0;34m,\u001b[0m \u001b[0ma\u001b[0m\u001b[0;34m,\u001b[0m \u001b[0mx\u001b[0m\u001b[0;34m)\u001b[0m\u001b[0;34m\u001b[0m\u001b[0;34m\u001b[0m\u001b[0m\n\u001b[0m\u001b[1;32m      7\u001b[0m \u001b[0;34m\u001b[0m\u001b[0m\n\u001b[1;32m      8\u001b[0m \u001b[0;31m# Compute frequency response\u001b[0m\u001b[0;34m\u001b[0m\u001b[0;34m\u001b[0m\u001b[0m\n",
            "\u001b[0;31mNameError\u001b[0m: name 'x' is not defined"
          ]
        }
      ]
    }
  ]
}