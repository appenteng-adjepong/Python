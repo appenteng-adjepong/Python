{
  "nbformat": 4,
  "nbformat_minor": 0,
  "metadata": {
    "colab": {
      "provenance": []
    },
    "kernelspec": {
      "name": "python3",
      "display_name": "Python 3"
    },
    "language_info": {
      "name": "python"
    }
  },
  "cells": [
    {
      "cell_type": "code",
      "execution_count": 4,
      "metadata": {
        "colab": {
          "base_uri": "https://localhost:8080/"
        },
        "id": "XLW1UYz_IPkl",
        "outputId": "2a7fcace-c707-4e3a-d194-662321c2c0ea"
      },
      "outputs": [
        {
          "output_type": "stream",
          "name": "stdout",
          "text": [
            "Filter coefficient 'a': 0.7937005259840998\n"
          ]
        }
      ],
      "source": [
        "import numpy as np\n",
        "\n",
        "# Half-life time (given)\n",
        "half_life_time = 3  # seconds\n",
        "\n",
        "# Sampling time\n",
        "sampling_time = 1  # seconds\n",
        "\n",
        "# Calculate the time constant (approximation in discrete time)\n",
        "tau = half_life_time / np.log(2)\n",
        "\n",
        "# Calculate the filter coefficient 'a'\n",
        "a = np.exp(-sampling_time / tau)\n",
        "\n",
        "print(\"Filter coefficient 'a':\", a)"
      ]
    }
  ]
}