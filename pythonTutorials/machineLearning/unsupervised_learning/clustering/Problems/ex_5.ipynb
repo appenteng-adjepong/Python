{
  "nbformat": 4,
  "nbformat_minor": 0,
  "metadata": {
    "colab": {
      "provenance": []
    },
    "kernelspec": {
      "name": "python3",
      "display_name": "Python 3"
    },
    "language_info": {
      "name": "python"
    }
  },
  "cells": [
    {
      "cell_type": "code",
      "execution_count": null,
      "metadata": {
        "id": "5-x_qqSztWR9"
      },
      "outputs": [],
      "source": []
    },
    {
      "cell_type": "code",
      "execution_count": null,
      "metadata": {
        "id": "sbCVkZ_KrQ1c"
      },
      "outputs": [],
      "source": [
        "# import data numerical computation and data visualization libraries"
      ]
    },
    {
      "cell_type": "code",
      "source": [
        "# import machine learning libraries(scikit-learn)"
      ],
      "metadata": {
        "id": "lcUuAjKarZgm"
      },
      "execution_count": null,
      "outputs": []
    },
    {
      "cell_type": "code",
      "source": [
        "# load/ read data"
      ],
      "metadata": {
        "id": "XgZmZFcUrZjg"
      },
      "execution_count": null,
      "outputs": []
    },
    {
      "cell_type": "code",
      "source": [
        "# visualize and interprete data"
      ],
      "metadata": {
        "id": "JNSeAXn3rgmP"
      },
      "execution_count": null,
      "outputs": []
    },
    {
      "cell_type": "code",
      "source": [
        "# specify features and targets for prediction"
      ],
      "metadata": {
        "id": "Yzq3ZQv2rgpx"
      },
      "execution_count": null,
      "outputs": []
    },
    {
      "cell_type": "code",
      "source": [
        "# split data"
      ],
      "metadata": {
        "id": "wQvBVE23sULp"
      },
      "execution_count": null,
      "outputs": []
    },
    {
      "cell_type": "code",
      "source": [
        "# specify machine learning algorithm and model"
      ],
      "metadata": {
        "id": "M-FuCKr8rgsx"
      },
      "execution_count": null,
      "outputs": []
    },
    {
      "cell_type": "code",
      "source": [
        "# fit the model to training data"
      ],
      "metadata": {
        "id": "ihIDXaKvsclr"
      },
      "execution_count": null,
      "outputs": []
    },
    {
      "cell_type": "code",
      "source": [
        "# predict with training data"
      ],
      "metadata": {
        "id": "lsMUW_QusdNg"
      },
      "execution_count": null,
      "outputs": []
    },
    {
      "cell_type": "code",
      "source": [
        "# evaluate model accuracy"
      ],
      "metadata": {
        "id": "OlPqfwP4sl1O"
      },
      "execution_count": null,
      "outputs": []
    },
    {
      "cell_type": "code",
      "source": [
        "# evaluate mean squared error"
      ],
      "metadata": {
        "id": "LaoK681yrg2a"
      },
      "execution_count": null,
      "outputs": []
    }
  ]
}